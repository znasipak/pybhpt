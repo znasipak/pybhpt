{
 "cells": [
  {
   "cell_type": "markdown",
   "id": "36243188",
   "metadata": {},
   "source": [
    "# Flux tutorial"
   ]
  },
  {
   "cell_type": "markdown",
   "id": "c49b3e6f",
   "metadata": {},
   "source": [
    "## Load `pybhpt.flux`"
   ]
  },
  {
   "cell_type": "code",
   "execution_count": 4,
   "id": "3df417f3",
   "metadata": {},
   "outputs": [],
   "source": [
    "from pybhpt.teuk import TeukolskyMode\n",
    "from pybhpt.flux import FluxMode\n",
    "from pybhpt.geo import KerrGeodesic\n",
    "import numpy as np\n",
    "import matplotlib.pyplot as plt\n",
    "import matplotlib as mpl"
   ]
  },
  {
   "cell_type": "markdown",
   "id": "4e1e49ca",
   "metadata": {},
   "source": [
    "## Solving the inhomogeneous radial Teukolsky equation in Kerr spacetime"
   ]
  },
  {
   "cell_type": "markdown",
   "id": "70c6f65f",
   "metadata": {},
   "source": [
    "The `TeukolskyMode` class constructs modes of the so-called extended homogeneous solutions to the radial Teukolsky equation for a point-particle source on a bound periodic geodesic,\n",
    "$$\\begin{align}\n",
    "    \\Psi_s &= \\Psi_s^+ \\Theta(r-r_p) + \\Psi_s^- \\Theta(r_p-r),\n",
    "    \\\\\n",
    "    \\Psi_s^\\pm &= \\sum_{jmkn}\\Psi^\\pm_{sjmkn}(r)S_{sj\\gamma_{mkn}}(\\theta)e^{im\\phi}e^{-i\\omega_{mkn}t},\n",
    "\\end{align}$$\n",
    "where we have the mode frequencies $\\omega_{mkn} = m\\Omega_\\phi + k \\Omega_\\theta + n \\Omega_r$, the discrete spheroidicity $\\gamma_{mkn} = a\\omega_{mkn}$, and the extended homogeneous radial solutions\n",
    "$$\n",
    "    \\Psi^\\pm_{sjmkn}(r) = Z^{\\mathrm{Up/In}}_{sjmkn} R^{\\mathrm{Up/In}}_{sjmkn}(r),\n",
    "$$\n",
    "with Teukolsky amplitudes $Z^{\\mathrm{Up/In}}_{sjmkn}$. The code currently supports spin-weights $s= 0, \\pm 2$, corresponding the scalar perturbations $\\Psi_0 = \\Phi$ and curvature perturbations $\\Psi_{2} = \\psi_0$, $\\Psi_{-2} = (r-ia\\cos\\theta)^{4} \\psi_4$."
   ]
  },
  {
   "cell_type": "markdown",
   "id": "b67150d3",
   "metadata": {},
   "source": [
    "The class is instantiated with the input parameters\n",
    "\n",
    "- $s$ : spin-weight of the perturbation\n",
    "- $j$ : the spheroidal polar mode number\n",
    "- $m$ : the azimuthal mode number\n",
    "- $k$ : the polar mode number\n",
    "- $n$ : the radial mode number\n",
    "\n",
    "along with an instance of the `KerrGeodesic` class that captures the motion of the source."
   ]
  },
  {
   "cell_type": "code",
   "execution_count": 5,
   "id": "60f32b9b",
   "metadata": {},
   "outputs": [],
   "source": [
    "a, p, e, x = 0.99, 5, 0.6, 0.4\n",
    "geo = KerrGeodesic(a, p, e, x)"
   ]
  },
  {
   "cell_type": "code",
   "execution_count": 6,
   "id": "7c516fd7",
   "metadata": {},
   "outputs": [],
   "source": [
    "s, j, m, k, n = -2, 12, 3, 1, 2\n",
    "Psis = TeukolskyMode(s, j, m, k, n, geo)"
   ]
  },
  {
   "cell_type": "markdown",
   "id": "ca480f57",
   "metadata": {},
   "source": [
    "We solve for the mode solutions and the Teukolsky amplitudes with the `solve()` method"
   ]
  },
  {
   "cell_type": "code",
   "execution_count": 7,
   "id": "a34f476c",
   "metadata": {},
   "outputs": [],
   "source": [
    "Psis.solve(geo)"
   ]
  },
  {
   "cell_type": "markdown",
   "id": "98185538",
   "metadata": {},
   "source": [
    "## Generating flux contribution from each Teukolsky mode"
   ]
  },
  {
   "cell_type": "markdown",
   "id": "e1d24cf0",
   "metadata": {},
   "source": [
    "The time-averaged rate of change of the orbital energy $\\langle \\dot{E}\\rangle$, angular momentum $\\langle \\dot{L}_z\\rangle$, and Carter constant $\\langle \\dot{Q}\\rangle$ can be expressed in terms of the Teukolsky amplitudes $Z^\\mathrm{Up/In}_{sjmkn}$,\n",
    "$$ \n",
    "\\begin{align}\n",
    "\\langle \\dot{\\mathcal{J}} \\rangle & = \\langle \\dot{\\mathcal{J}} \\rangle^\\mathrm{inf} + \\langle \\dot{\\mathcal{J}} \\rangle^\\mathrm{hor},\n",
    "\\\\\n",
    "&= \\sum_{jmkn} \\langle \\dot{\\mathcal{J}} \\rangle^\\mathrm{inf/hor}_{jmkn},\n",
    "\\\\ \n",
    "&= \\sum_{jmkn} \\alpha_{sjmkn}^{(\\mathcal{J})\\mathrm{inf/hor}}\\left| Z^\\mathrm{Up/In}_{sjmkn} \\right|^2,\n",
    "\\end{align}$$\n",
    "where $\\mathcal{J} = (E, L_z, Q)$, $\\alpha_{sjmkn}^{(\\mathcal{J})\\mathrm{inf}/\\mathrm{hor}}$ are known coefficients, and $s=0, \\pm 2$ produce either scalar or gravitational fluxes, respectively. \n",
    "\n",
    "The `FluxMode` class takes as input an instances of the Kerr geodesic class and the Teukolsky class for a mode $(s,j,m,k,n)$, and produces the flux contribution for that given mode."
   ]
  },
  {
   "cell_type": "code",
   "execution_count": 9,
   "id": "eedccb70",
   "metadata": {},
   "outputs": [],
   "source": [
    "flux = FluxMode(geo, Psis)"
   ]
  },
  {
   "cell_type": "markdown",
   "id": "5a7b39c9",
   "metadata": {},
   "source": [
    "Then we can access the horizon fluxes, infinity fluxes, and total fluxes, which are stored in lists with the order of $\\mathcal{J} = (E, L_z, Q)$"
   ]
  },
  {
   "cell_type": "code",
   "execution_count": 12,
   "id": "aa55c4fc",
   "metadata": {},
   "outputs": [
    {
     "name": "stdout",
     "output_type": "stream",
     "text": [
      "[-3.606222842872166e-36, -3.5075219557527026e-35, -1.979059439027494e-34]\n",
      "[6.753687090778148e-25, 6.56884135710292e-24, 3.7063566971910574e-23]\n",
      "[6.753687090742086e-25, 6.568841357067845e-24, 3.706356697171267e-23]\n"
     ]
    }
   ],
   "source": [
    "print(flux.horizonfluxes)\n",
    "print(flux.infinityfluxes)\n",
    "print(flux.totalfluxes)"
   ]
  },
  {
   "cell_type": "markdown",
   "id": "f11ec8d4",
   "metadata": {},
   "source": [
    "## Example: Circular Kerr fluxes"
   ]
  },
  {
   "cell_type": "markdown",
   "id": "ca1b9ffd",
   "metadata": {},
   "source": [
    "As a quick example, we compute the total fluxes for a particle on a circular Kerr geodesic"
   ]
  },
  {
   "cell_type": "code",
   "execution_count": 14,
   "id": "eb70fe5e",
   "metadata": {},
   "outputs": [],
   "source": [
    "a, p, e, x = 0.99, 5, 0., 1.\n",
    "geo = KerrGeodesic(a, p, e, x, nsamples=2**2)"
   ]
  },
  {
   "cell_type": "code",
   "execution_count": 45,
   "id": "ff63f45e",
   "metadata": {},
   "outputs": [],
   "source": [
    "jmax = 18\n",
    "total_fluxes = np.zeros(3)\n",
    "horizon_fluxes = np.zeros(3)\n",
    "infinity_fluxes = np.zeros(3)\n",
    "total_fluxes_jmodes = np.zeros((jmax - 1, 3))\n",
    "for j in range(2, jmax+1):\n",
    "    for m in range(1, j+1):\n",
    "        Psis = TeukolskyMode(-2, j, m, 0, 0, geo, auto_solve=True)\n",
    "        flux = FluxMode(geo, Psis)\n",
    "        total_fluxes += flux.totalfluxes\n",
    "        total_fluxes_jmodes[j-2] += flux.totalfluxes\n",
    "        horizon_fluxes += flux.horizonfluxes\n",
    "        infinity_fluxes += flux.infinityfluxes\n",
    "total_fluxes *= 2\n",
    "horizon_fluxes *= 2\n",
    "infinity_fluxes *= 2\n",
    "total_fluxes_jmodes *= 2"
   ]
  },
  {
   "cell_type": "code",
   "execution_count": 46,
   "id": "91683546",
   "metadata": {},
   "outputs": [
    {
     "name": "stdout",
     "output_type": "stream",
     "text": [
      "Total fluxes (E, Lz, Q):  [0.00122957 0.01496423 0.        ]\n"
     ]
    }
   ],
   "source": [
    "print(\"Total fluxes (E, Lz, Q): \", total_fluxes)"
   ]
  },
  {
   "cell_type": "markdown",
   "id": "033f7be0",
   "metadata": {},
   "source": [
    "We can also plot the convergence of the mode-sum, which we see falls-off exponentially"
   ]
  },
  {
   "cell_type": "code",
   "execution_count": 47,
   "id": "f0387a89",
   "metadata": {},
   "outputs": [
    {
     "data": {
      "image/png": "[encoded data removed]",
      "text/plain": [
       "<Figure size 640x480 with 1 Axes>"
      ]
     },
     "metadata": {},
     "output_type": "display_data"
    }
   ],
   "source": [
    "mpl.rcParams['text.usetex'] = True\n",
    "mpl.rcParams['font.family'] = 'serif'\n",
    "mpl.rcParams['font.size'] = 16\n",
    "\n",
    "plt.plot(range(2, jmax+1), total_fluxes_jmodes[:, 0], 'o-')\n",
    "plt.yscale('log')\n",
    "plt.xlabel('$j$')\n",
    "plt.ylabel('$\\dot{E}_{j}$')\n",
    "plt.title('Energy flux contribution from each $j$ mode')\n",
    "plt.grid()\n",
    "plt.show()"
   ]
  },
  {
   "cell_type": "code",
   "execution_count": null,
   "id": "83932165",
   "metadata": {},
   "outputs": [],
   "source": []
  }
 ],
 "metadata": {
  "kernelspec": {
   "display_name": "pybhpt-env-test",
   "language": "python",
   "name": "python3"
  },
  "language_info": {
   "codemirror_mode": {
    "name": "ipython",
    "version": 3
   },
   "file_extension": ".py",
   "mimetype": "text/x-python",
   "name": "python",
   "nbconvert_exporter": "python",
   "pygments_lexer": "ipython3",
   "version": "3.9.23"
  }
 },
 "nbformat": 4,
 "nbformat_minor": 5
}

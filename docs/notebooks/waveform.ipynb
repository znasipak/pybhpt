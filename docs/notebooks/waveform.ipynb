{
 "cells": [
  {
   "cell_type": "markdown",
   "id": "36243188",
   "metadata": {},
   "source": [
    "# Snapshot waveform tutorial"
   ]
  },
  {
   "cell_type": "markdown",
   "id": "c49b3e6f",
   "metadata": {},
   "source": [
    "## Load `pybhpt.geo` and `pybhpt.teuk`"
   ]
  },
  {
   "cell_type": "code",
   "execution_count": 1,
   "id": "3df417f3",
   "metadata": {},
   "outputs": [],
   "source": [
    "from pybhpt.teuk import TeukolskyMode\n",
    "from pybhpt.geo import KerrGeodesic\n",
    "from pybhpt.swsh import SpinWeightedSpheroidalHarmonic\n",
    "import numpy as np\n",
    "import matplotlib.pyplot as plt\n",
    "import matplotlib as mpl"
   ]
  },
  {
   "cell_type": "markdown",
   "id": "4e1e49ca",
   "metadata": {},
   "source": [
    "## Building a snapshot waveform"
   ]
  },
  {
   "cell_type": "markdown",
   "id": "20ab9c0b",
   "metadata": {},
   "source": [
    "We can build a snapshot waveform produced by a point-particle on a periodic geodesic in Kerr spacetime from the Teukolsky solutions. The snapshot waveform $h = h_+ - i h_\\times$ is related to Teukolsky solutions by $\\psi_4(r\\rightarrow\\infty) = \\frac{1}{2}\\ddot{h}$, leading to \n",
    "$$\\begin{align}\n",
    "    h &= - \\frac{2\\mu}{r} \\sum_{jmkn} \\frac{Z^\\mathrm{Up}_{jmkn}}{\\omega_{mkn}^2} S_{jm\\gamma_{mkn}}(\\theta)e^{im\\phi} e^{-i\\omega_{mkn}u}\n",
    "\\end{align}$$\n",
    "where $u=t-r_*$."
   ]
  },
  {
   "cell_type": "markdown",
   "id": "4b8e5413",
   "metadata": {},
   "source": [
    "First we define a background geodesic"
   ]
  },
  {
   "cell_type": "code",
   "execution_count": 2,
   "id": "60f32b9b",
   "metadata": {},
   "outputs": [],
   "source": [
    "a, p, e, x = 0.99, 5, 0.6, 0.4\n",
    "geo = KerrGeodesic(a, p, e, x, nsamples = 2**8)"
   ]
  },
  {
   "cell_type": "markdown",
   "id": "10516f3b",
   "metadata": {},
   "source": [
    "We now build the waveform, starting with computing all amplitudes which contribute to the total power above some threshold tolerance `tol`"
   ]
  },
  {
   "cell_type": "markdown",
   "id": "a0862ebb",
   "metadata": {},
   "source": [
    "To facilitate the sum over $k$, and $n$, we build some functions for computing the amplitudes and checking their relative strength to the sum of the squared amplitudes"
   ]
  },
  {
   "cell_type": "code",
   "execution_count": 3,
   "id": "04efb2c1",
   "metadata": {},
   "outputs": [],
   "source": [
    "def k_mode_sum(j, m, n, geo, modes, n_total_power_sq, total_power_sq, tol = 1e-5, klimit = 10):\n",
    "    \"\"\"\n",
    "    This function computes the sum over $k$-modes for a given set \n",
    "    of indices $(j, m, n)$ and a geodesic object. \n",
    "    It iteratively solves the Teukolsky equation for each $k$-mode,\n",
    "    computes the amplitude, and accumulates the squared power \n",
    "    until the relative contribution of new modes falls below a \n",
    "    specified tolerance. The function handles both positive \n",
    "    and negative $k$ values, skipping unphysical cases. \n",
    "    Results are appended to the `modes` list \n",
    "    and the total power is updated.\n",
    "\n",
    "    Parameters:\n",
    "    ===========\n",
    "    - `j, m, n`: Mode indices\n",
    "    - `geo`: KerrGeodesic object\n",
    "    - `modes`: List to store mode results\n",
    "    - `n_total_power_sq`: Accumulated power for this $n$\n",
    "    - `total_power_sq`: Accumulated total power\n",
    "    - `tol`: Relative tolerance for convergence (default: 1e-5)\n",
    "    - `klimit`: Maximum $|k|$ value to sum (default: 10)\n",
    "\n",
    "    Returns:\n",
    "    ========\n",
    "    - Updated `modes` list\n",
    "    - Updated `n_total_power_sq`\n",
    "    - Updated `total_power_sq`\n",
    "    \"\"\"\n",
    "    \n",
    "    kerror = 1\n",
    "    kconverge = 0\n",
    "    k0 = -m\n",
    "    k = k0\n",
    "    nk_total_power_sq_prev = 1\n",
    "    while (k < klimit) and (kconverge < 3):\n",
    "        if (m == 0) and (n == 0) and (k <= 0):\n",
    "            k += 1\n",
    "        else:\n",
    "            Psis = TeukolskyMode(-2, j, m, k, n, geo)\n",
    "            Psis.solve(geo)\n",
    "            amp = -2*Psis.amplitude('Up')/Psis.frequency**2\n",
    "            if Psis.precision('Up') > 0.01:\n",
    "                amp = 0\n",
    "\n",
    "            nk_total_power_sq = np.abs(amp)**2\n",
    "            n_total_power_sq += nk_total_power_sq\n",
    "            total_power_sq += nk_total_power_sq\n",
    "\n",
    "            kerror = np.sqrt(nk_total_power_sq/total_power_sq)\n",
    "            if (kerror < tol) and (nk_total_power_sq_prev >= nk_total_power_sq):\n",
    "                kconverge += 1\n",
    "            else:\n",
    "                kconverge = 0\n",
    "            modes.append([j, m, k, n, Psis.frequency, amp])\n",
    "            k += 1\n",
    "            nk_total_power_sq_prev = nk_total_power_sq\n",
    "    # print(n, k-1)\n",
    "\n",
    "    k = k0 - 1\n",
    "    kconverge = 0\n",
    "    nk_total_power_sq_prev = 1\n",
    "    while (np.abs(k) < klimit) and (kconverge < 3):\n",
    "        if (m == 0) and (n == 0) and (k <= 0):\n",
    "            k -= 1\n",
    "        else:\n",
    "            Psis = TeukolskyMode(-2, j, m, k, n, geo)\n",
    "            Psis.solve(geo)\n",
    "            amp = -2*Psis.amplitude('Up')/Psis.frequency**2\n",
    "            if Psis.precision('Up') > 0.01:\n",
    "                amp = 0\n",
    "\n",
    "            nk_total_power_sq = np.abs(amp)**2\n",
    "            n_total_power_sq += nk_total_power_sq\n",
    "            total_power_sq += nk_total_power_sq\n",
    "\n",
    "            kerror = np.sqrt(nk_total_power_sq/total_power_sq)\n",
    "            if (kerror < tol) and (nk_total_power_sq_prev >= nk_total_power_sq):\n",
    "                kconverge += 1\n",
    "            else:\n",
    "                kconverge = 0\n",
    "            modes.append([j, m, k, n, Psis.frequency, amp])\n",
    "            k -= 1\n",
    "            nk_total_power_sq_prev = nk_total_power_sq\n",
    "    # print(n, k+1)\n",
    "\n",
    "    return modes, n_total_power_sq, total_power_sq"
   ]
  },
  {
   "cell_type": "code",
   "execution_count": 4,
   "id": "477a4f25",
   "metadata": {},
   "outputs": [],
   "source": [
    "def n_mode_sum(j, m, geo, modes, m_total_power_sq, total_power_sq, tol = 1e-5, nlimit = 50, klimit = 10):\n",
    "    \"\"\"\n",
    "    This function computes the sum over $n$-modes for a given\n",
    "    $(j, m)$ and geodesic object. For each $n$-mode, it calls \n",
    "    `k_mode_sum` to perform the $k$-sum, accumulates the squared \n",
    "    power, and checks for convergence. Both positive and negative \n",
    "    $n$ values are considered, skipping unphysical cases. Results \n",
    "    are appended to the `modes` list and the total power is updated.\n",
    "\n",
    "    Parameters:\n",
    "    ===========\n",
    "    - `j, m`: Mode indices\n",
    "    - `geo`: KerrGeodesic object\n",
    "    - `modes`: List to store mode results\n",
    "    - `m_total_power_sq`: Accumulated power for this $m$\n",
    "    - `total_power_sq`: Accumulated total power\n",
    "    - `tol`: Relative tolerance for convergence (default: 1e-5)\n",
    "    - `nlimit`: Maximum $|n|$ value to sum (default: 50)\n",
    "    - `klimit`: Maximum $|k|$ value to sum (default: 10)\n",
    "\n",
    "    Returns:\n",
    "    ========\n",
    "    - Updated `modes` list\n",
    "    - Updated `m_total_power_sq`\n",
    "    - Updated `total_power_sq`\n",
    "    \"\"\"\n",
    "    n0 = 0\n",
    "    n = n0\n",
    "    nconverge = 0\n",
    "    n_total_power_sq_prev = 1\n",
    "    while (n < nlimit) and (nconverge < 3):\n",
    "        if (m == 0) and (n < 0):\n",
    "            n += 1\n",
    "        else:\n",
    "            n_total_power_sq = 0.\n",
    "            modes, n_total_power_sq, total_power_sq = k_mode_sum(j, m, n, geo, modes, n_total_power_sq, total_power_sq, tol=tol, klimit=klimit)\n",
    "            m_total_power_sq += n_total_power_sq\n",
    "\n",
    "            nerror = np.sqrt(n_total_power_sq/total_power_sq)\n",
    "            if (nerror < tol) and (n_total_power_sq_prev >= n_total_power_sq):\n",
    "                nconverge += 1\n",
    "            else:\n",
    "                nconverge = 0\n",
    "            n += 1\n",
    "            n_total_power_sq_prev = n_total_power_sq\n",
    "    # print(n-1)\n",
    "\n",
    "    n = n0 - 1\n",
    "    nconverge = 0\n",
    "    n_total_power_sq_prev = 1\n",
    "    while (np.abs(n) < nlimit) and (nconverge < 3):\n",
    "        if (m == 0) and (n < 0):\n",
    "            n -= 1\n",
    "        else:\n",
    "            n_total_power_sq = 0.\n",
    "            modes, n_total_power_sq, total_power_sq = k_mode_sum(j, m, n, geo, modes, n_total_power_sq, total_power_sq, tol=tol, klimit=klimit)\n",
    "            m_total_power_sq += n_total_power_sq\n",
    "\n",
    "            nerror = np.sqrt(n_total_power_sq/total_power_sq)\n",
    "            if (nerror < tol) and (n_total_power_sq_prev >= n_total_power_sq):\n",
    "                nconverge += 1\n",
    "            else:\n",
    "                nconverge = 0\n",
    "            n -= 1\n",
    "            n_total_power_sq_prev = n_total_power_sq\n",
    "    # print(n+1)\n",
    "\n",
    "    return modes, m_total_power_sq, total_power_sq"
   ]
  },
  {
   "cell_type": "markdown",
   "id": "1e35053f",
   "metadata": {},
   "source": [
    "We then specify the tolerance of the amplitude power we want to include in the waveform. To speed up calculations, we set it to 0.01"
   ]
  },
  {
   "cell_type": "code",
   "execution_count": 5,
   "id": "c854bb93",
   "metadata": {},
   "outputs": [],
   "source": [
    "tol = 1e-2"
   ]
  },
  {
   "cell_type": "markdown",
   "id": "600b6554",
   "metadata": {},
   "source": [
    "We then produce all of the relevant modes and store them in a list `modes`. (This can take several minutes depending on the tolerance set and the nature of the source.)"
   ]
  },
  {
   "cell_type": "code",
   "execution_count": 6,
   "id": "c998a123",
   "metadata": {},
   "outputs": [
    {
     "name": "stdout",
     "output_type": "stream",
     "text": [
      "2 2\n",
      "2 1\n",
      "2 0\n",
      "3 3\n",
      "3 2\n",
      "3 1\n",
      "3 0\n",
      "4 4\n",
      "4 3\n",
      "4 2\n",
      "4 1\n",
      "4 0\n",
      "5 5\n",
      "5 4\n",
      "5 3\n",
      "5 2\n",
      "5 1\n",
      "5 0\n",
      "6 6\n",
      "6 5\n"
     ]
    }
   ],
   "source": [
    "total_power_sq = 0.\n",
    "nlimit = 120\n",
    "klimit = 40\n",
    "\n",
    "modes = []\n",
    "jerror = 1\n",
    "j = 2\n",
    "jmax = 10\n",
    "while (j <= jmax) and (jerror > tol):\n",
    "    m = j\n",
    "    j_total_power_sq = 0.\n",
    "    mconvergence = 0\n",
    "    while m >= 0 and mconvergence < 2:     \n",
    "        print(j, m)\n",
    "\n",
    "        m_total_power_sq = 0.\n",
    "        modes, m_total_power_sq, total_power_sq = n_mode_sum(j, m, geo, modes, m_total_power_sq, total_power_sq, tol=tol, nlimit=nlimit, klimit=klimit)\n",
    "        j_total_power_sq += m_total_power_sq\n",
    "\n",
    "        merror = np.sqrt(m_total_power_sq/total_power_sq)\n",
    "        if merror < tol:\n",
    "            mconvergence += 1\n",
    "        else:\n",
    "            mconvergence = 0\n",
    "        m -= 1\n",
    "        # print(np.sqrt(m_total_power_sq))\n",
    "    jerror = np.sqrt(j_total_power_sq/total_power_sq)\n",
    "    # print(j, jerror, tol, jerror > tol, np.sqrt(total_power_sq))\n",
    "    j += 1"
   ]
  },
  {
   "cell_type": "markdown",
   "id": "401ec21b",
   "metadata": {},
   "source": [
    "We specify the time samples for computing the waveform, along with the polar viewing angles"
   ]
  },
  {
   "cell_type": "code",
   "execution_count": 7,
   "id": "55a5e8b4",
   "metadata": {},
   "outputs": [],
   "source": [
    "th = 0.4\n",
    "phi = 0.2\n",
    "u_grid = np.linspace(0, 4*2*np.pi/geo.frequencies[0], 800)"
   ]
  },
  {
   "cell_type": "markdown",
   "id": "ad913e04",
   "metadata": {},
   "source": [
    "We then build the waveform from the selected mode amplitudes"
   ]
  },
  {
   "cell_type": "code",
   "execution_count": 8,
   "id": "90686ca9",
   "metadata": {},
   "outputs": [],
   "source": [
    "h = 0.j\n",
    "for mode in modes:\n",
    "    j, m, k, n, omega, amp = mode\n",
    "    Slm = SpinWeightedSpheroidalHarmonic(-2, j, m, a*omega)(th)\n",
    "    h += amp * Slm * np.exp(1j * (m * phi - omega * u_grid))\n",
    "    Slm = SpinWeightedSpheroidalHarmonic(-2, j, -m, -a*omega)(th)\n",
    "    h += (-1)**(j + k) * np.conj(amp) * Slm * np.exp(-1j * (m * phi - omega * u_grid))"
   ]
  },
  {
   "cell_type": "markdown",
   "id": "b59193a3",
   "metadata": {},
   "source": [
    "Plotting the waveform"
   ]
  },
  {
   "cell_type": "code",
   "execution_count": 9,
   "id": "d3c79a55",
   "metadata": {},
   "outputs": [
    {
     "data": {
      "image/png": "[encoded data removed]",
      "text/plain": [
       "<Figure size 640x480 with 1 Axes>"
      ]
     },
     "metadata": {},
     "output_type": "display_data"
    }
   ],
   "source": [
    "mpl.rcParams['text.usetex'] = True\n",
    "mpl.rcParams['font.family'] = 'serif'\n",
    "mpl.rcParams['font.size'] = 16\n",
    "\n",
    "plt.plot(u_grid, h.real, label='Re')\n",
    "plt.plot(u_grid, h.imag, label='Im')\n",
    "plt.xlabel(r'$u$')\n",
    "plt.ylabel(r'$d_L \\times h$')\n",
    "plt.legend()\n",
    "plt.tight_layout()\n",
    "plt.show()"
   ]
  },
  {
   "cell_type": "markdown",
   "id": "802e5e6e",
   "metadata": {},
   "source": [
    "Note that the residual high-frequency oscillations can be mitigated by reducing the value of `tol`"
   ]
  }
 ],
 "metadata": {
  "kernelspec": {
   "display_name": "pybhpt-env-test",
   "language": "python",
   "name": "python3"
  },
  "language_info": {
   "codemirror_mode": {
    "name": "ipython",
    "version": 3
   },
   "file_extension": ".py",
   "mimetype": "text/x-python",
   "name": "python",
   "nbconvert_exporter": "python",
   "pygments_lexer": "ipython3",
   "version": "3.9.23"
  }
 },
 "nbformat": 4,
 "nbformat_minor": 5
}
